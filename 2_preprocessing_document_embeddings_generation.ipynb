{
 "cells": [
  {
   "cell_type": "markdown",
   "metadata": {},
   "source": [
    "# Canada's Response to Economic Impacts of COVID-19\n",
    "  \n",
    "Amanda Cheney  \n",
    "Metis Final Project  \n",
    "Part 2 of 4  \n",
    "December 8, 2020    \n",
    "\n",
    "**Objective**  \n",
    "Unsupervised learning and natural language processing to identify two sets of clusters of Twitter conversations about the Canadian Emergency Response Benefit (CERB) and Canadian Recovery Benefit (CRB) programs to address unemployment and economic impacts of the COVID-19 pandemic. \n",
    "\n",
    "1. One that captures the contours of everyday user conversations. \n",
    "\n",
    "2.  Another that highlights clusters of conversation that are really, really dense, have users make collaborative efforts to shape public opinion and perception.  \n",
    "\n",
    "**Data Sources**  \n",
    "250,000+ tweets from March 1 - December 1, 2020, collected using snscrape.  \n",
    "\n",
    "**This Notebook**  \n",
    "Clean and preprocess tweets using SpaCy. Create document embeddings using FastText."
   ]
  },
  {
   "cell_type": "markdown",
   "metadata": {},
   "source": [
    "## Imports"
   ]
  },
  {
   "cell_type": "code",
   "execution_count": 1,
   "metadata": {},
   "outputs": [],
   "source": [
    "import pandas as pd\n",
    "import pickle\n",
    "import numpy as np\n",
    "import re\n",
    "\n",
    "#FastText\n",
    "import fasttext as ft\n",
    "\n",
    "#VADER \n",
    "from vaderSentiment.vaderSentiment import SentimentIntensityAnalyzer\n",
    "\n",
    "# Avoid warnings\n",
    "import warnings\n",
    "warnings.filterwarnings(\"ignore\")"
   ]
  },
  {
   "cell_type": "code",
   "execution_count": 2,
   "metadata": {},
   "outputs": [],
   "source": [
    "import spacy\n",
    "nlp = spacy.load('en_core_web_sm')"
   ]
  },
  {
   "cell_type": "markdown",
   "metadata": {},
   "source": [
    "## Import data"
   ]
  },
  {
   "cell_type": "code",
   "execution_count": 3,
   "metadata": {},
   "outputs": [],
   "source": [
    "with open('cerb_df.pickle', 'rb') as read_file:\n",
    "    df = pickle.load(read_file)"
   ]
  },
  {
   "cell_type": "code",
   "execution_count": 4,
   "metadata": {},
   "outputs": [],
   "source": [
    "df1 = df.copy()"
   ]
  },
  {
   "cell_type": "code",
   "execution_count": 5,
   "metadata": {},
   "outputs": [
    {
     "name": "stdout",
     "output_type": "stream",
     "text": [
      "<class 'pandas.core.frame.DataFrame'>\n",
      "Int64Index: 240808 entries, 0 to 255326\n",
      "Data columns (total 24 columns):\n",
      " #   Column           Non-Null Count   Dtype              \n",
      "---  ------           --------------   -----              \n",
      " 0   url              240808 non-null  object             \n",
      " 1   date             240808 non-null  datetime64[ns, UTC]\n",
      " 2   content          240808 non-null  object             \n",
      " 3   renderedContent  240808 non-null  object             \n",
      " 4   id               240808 non-null  int64              \n",
      " 5   user             240808 non-null  object             \n",
      " 6   outlinks         240808 non-null  object             \n",
      " 7   tcooutlinks      240808 non-null  object             \n",
      " 8   replyCount       240808 non-null  int64              \n",
      " 9   retweetCount     240808 non-null  int64              \n",
      " 10  likeCount        240808 non-null  int64              \n",
      " 11  quoteCount       240808 non-null  int64              \n",
      " 12  conversationId   240808 non-null  int64              \n",
      " 13  lang             240808 non-null  object             \n",
      " 14  source           240808 non-null  object             \n",
      " 15  sourceUrl        240804 non-null  object             \n",
      " 16  sourceLabel      240804 non-null  object             \n",
      " 17  media            17074 non-null   object             \n",
      " 18  retweetedTweet   0 non-null       float64            \n",
      " 19  quotedTweet      21063 non-null   object             \n",
      " 20  mentionedUsers   154655 non-null  object             \n",
      " 21  user_name        240808 non-null  object             \n",
      " 22  simple_date      240808 non-null  object             \n",
      " 23  location         240808 non-null  object             \n",
      "dtypes: datetime64[ns, UTC](1), float64(1), int64(6), object(16)\n",
      "memory usage: 45.9+ MB\n"
     ]
    }
   ],
   "source": [
    "df1.info()"
   ]
  },
  {
   "cell_type": "markdown",
   "metadata": {},
   "source": [
    "## Implement preprocessing to return clean data "
   ]
  },
  {
   "cell_type": "markdown",
   "metadata": {},
   "source": [
    "Note that my preprocessing is fairly limited because the embeddings library I later use to create my word vectors contains #hashtag content, punctuation and stop words, so it was not necessary to do much more than remove numbers and extraneous symbols and @usernames."
   ]
  },
  {
   "cell_type": "code",
   "execution_count": 4,
   "metadata": {},
   "outputs": [],
   "source": [
    "from preprocessing_functions import remove_usernames, make_alphabetic, extract_hashtags, make_vader_score"
   ]
  },
  {
   "cell_type": "code",
   "execution_count": 7,
   "metadata": {},
   "outputs": [],
   "source": [
    "df1['no_user'] = [remove_usernames(post) for post in df1['content']]"
   ]
  },
  {
   "cell_type": "code",
   "execution_count": 95,
   "metadata": {},
   "outputs": [],
   "source": [
    "df1[['clean', 'clean_split']] = [make_alphabetic(post) for post in df1['no_user']]"
   ]
  },
  {
   "cell_type": "code",
   "execution_count": 96,
   "metadata": {},
   "outputs": [
    {
     "data": {
      "text/html": [
       "<div>\n",
       "<style scoped>\n",
       "    .dataframe tbody tr th:only-of-type {\n",
       "        vertical-align: middle;\n",
       "    }\n",
       "\n",
       "    .dataframe tbody tr th {\n",
       "        vertical-align: top;\n",
       "    }\n",
       "\n",
       "    .dataframe thead th {\n",
       "        text-align: right;\n",
       "    }\n",
       "</style>\n",
       "<table border=\"1\" class=\"dataframe\">\n",
       "  <thead>\n",
       "    <tr style=\"text-align: right;\">\n",
       "      <th></th>\n",
       "      <th>url</th>\n",
       "      <th>date</th>\n",
       "      <th>content</th>\n",
       "      <th>renderedContent</th>\n",
       "      <th>id</th>\n",
       "      <th>user</th>\n",
       "      <th>outlinks</th>\n",
       "      <th>tcooutlinks</th>\n",
       "      <th>replyCount</th>\n",
       "      <th>retweetCount</th>\n",
       "      <th>...</th>\n",
       "      <th>quotedTweet</th>\n",
       "      <th>mentionedUsers</th>\n",
       "      <th>user_name</th>\n",
       "      <th>simple_date</th>\n",
       "      <th>location</th>\n",
       "      <th>no_user</th>\n",
       "      <th>clean</th>\n",
       "      <th>hashtags</th>\n",
       "      <th>spacy_doc</th>\n",
       "      <th>clean_split</th>\n",
       "    </tr>\n",
       "  </thead>\n",
       "  <tbody>\n",
       "    <tr>\n",
       "      <th>0</th>\n",
       "      <td>https://twitter.com/SandraLynnColl3/status/133...</td>\n",
       "      <td>2020-12-01 00:12:39+00:00</td>\n",
       "      <td>@mini_bubbly In our Entire extended family, on...</td>\n",
       "      <td>@mini_bubbly In our Entire extended family, on...</td>\n",
       "      <td>1333564633320480769</td>\n",
       "      <td>{'username': 'SandraLynnColl3', 'displayname':...</td>\n",
       "      <td>[]</td>\n",
       "      <td>[]</td>\n",
       "      <td>0</td>\n",
       "      <td>0</td>\n",
       "      <td>...</td>\n",
       "      <td>None</td>\n",
       "      <td>[{'username': 'mini_bubbly', 'displayname': '🇨...</td>\n",
       "      <td>SandraLynnColl3</td>\n",
       "      <td>2020-12-01</td>\n",
       "      <td>Canada</td>\n",
       "      <td>In our Entire extended family, only one Niece ...</td>\n",
       "      <td>In our Entire extended family only one Niece l...</td>\n",
       "      <td>[]</td>\n",
       "      <td>(In, our, Entire, extended, family, only, one,...</td>\n",
       "      <td>[In, our, Entire, extended, family, only, one,...</td>\n",
       "    </tr>\n",
       "    <tr>\n",
       "      <th>2</th>\n",
       "      <td>https://twitter.com/bunmzi/status/133356432966...</td>\n",
       "      <td>2020-12-01 00:11:27+00:00</td>\n",
       "      <td>@MrStache9 Many Canadians dont realize this. L...</td>\n",
       "      <td>@MrStache9 Many Canadians dont realize this. L...</td>\n",
       "      <td>1333564329665441793</td>\n",
       "      <td>{'username': 'bunmzi', 'displayname': 'Mikel A...</td>\n",
       "      <td>[]</td>\n",
       "      <td>[]</td>\n",
       "      <td>0</td>\n",
       "      <td>1</td>\n",
       "      <td>...</td>\n",
       "      <td>None</td>\n",
       "      <td>[{'username': 'MrStache9', 'displayname': 'Mr ...</td>\n",
       "      <td>bunmzi</td>\n",
       "      <td>2020-12-01</td>\n",
       "      <td></td>\n",
       "      <td>Many Canadians dont realize this. Look at the ...</td>\n",
       "      <td>Many Canadians dont realize this Look at the s...</td>\n",
       "      <td>[]</td>\n",
       "      <td>(Many, Canadians, do, nt, realize, this, Look,...</td>\n",
       "      <td>[Many, Canadians, dont, realize, this, Look, a...</td>\n",
       "    </tr>\n",
       "    <tr>\n",
       "      <th>3</th>\n",
       "      <td>https://twitter.com/D313131Daniel/status/13335...</td>\n",
       "      <td>2020-12-01 00:08:32+00:00</td>\n",
       "      <td>@nationalpost @TheGrowthOp So that won’t cost ...</td>\n",
       "      <td>@nationalpost @TheGrowthOp So that won’t cost ...</td>\n",
       "      <td>1333563595607699464</td>\n",
       "      <td>{'username': 'D313131Daniel', 'displayname': '...</td>\n",
       "      <td>[]</td>\n",
       "      <td>[]</td>\n",
       "      <td>0</td>\n",
       "      <td>0</td>\n",
       "      <td>...</td>\n",
       "      <td>None</td>\n",
       "      <td>[{'username': 'nationalpost', 'displayname': '...</td>\n",
       "      <td>D313131Daniel</td>\n",
       "      <td>2020-12-01</td>\n",
       "      <td>Kingston, Ontario</td>\n",
       "      <td>So that won’t cost me taxes for cerb payments ...</td>\n",
       "      <td>So that wont cost me taxes for cerb payments f...</td>\n",
       "      <td>[]</td>\n",
       "      <td>(So, that, wo, nt, cost, me, taxes, for, cerb,...</td>\n",
       "      <td>[So, that, wont, cost, me, taxes, for, cerb, p...</td>\n",
       "    </tr>\n",
       "    <tr>\n",
       "      <th>4</th>\n",
       "      <td>https://twitter.com/Paulbyjove1/status/1333563...</td>\n",
       "      <td>2020-12-01 00:07:28+00:00</td>\n",
       "      <td>@exposforever @MJosling53 @erinotoole @PierreP...</td>\n",
       "      <td>@exposforever @MJosling53 @erinotoole @PierreP...</td>\n",
       "      <td>1333563328040464385</td>\n",
       "      <td>{'username': 'Paulbyjove1', 'displayname': 'Pa...</td>\n",
       "      <td>[]</td>\n",
       "      <td>[]</td>\n",
       "      <td>0</td>\n",
       "      <td>0</td>\n",
       "      <td>...</td>\n",
       "      <td>None</td>\n",
       "      <td>[{'username': 'exposforever', 'displayname': '...</td>\n",
       "      <td>Paulbyjove1</td>\n",
       "      <td>2020-12-01</td>\n",
       "      <td></td>\n",
       "      <td>False. The NUMBER 1 ROLE OF GOVT is to PROTECT...</td>\n",
       "      <td>False The NUMBER ROLE OF GOVT is to PROTECT TH...</td>\n",
       "      <td>[]</td>\n",
       "      <td>(False, The, NUMBER, ROLE, OF, GOVT, is, to, P...</td>\n",
       "      <td>[False, The, NUMBER, ROLE, OF, GOVT, is, to, P...</td>\n",
       "    </tr>\n",
       "    <tr>\n",
       "      <th>5</th>\n",
       "      <td>https://twitter.com/GavinBamber/status/1333563...</td>\n",
       "      <td>2020-12-01 00:07:00+00:00</td>\n",
       "      <td>@journo_dale Something like over $400 million ...</td>\n",
       "      <td>@journo_dale Something like over $400 million ...</td>\n",
       "      <td>1333563211216424961</td>\n",
       "      <td>{'username': 'GavinBamber', 'displayname': 'Ga...</td>\n",
       "      <td>[]</td>\n",
       "      <td>[]</td>\n",
       "      <td>0</td>\n",
       "      <td>0</td>\n",
       "      <td>...</td>\n",
       "      <td>None</td>\n",
       "      <td>[{'username': 'journo_dale', 'displayname': 'D...</td>\n",
       "      <td>GavinBamber</td>\n",
       "      <td>2020-12-01</td>\n",
       "      <td>North Vancouver</td>\n",
       "      <td>Something like over $400 million was mistakenl...</td>\n",
       "      <td>Something like over million was mistakenly sen...</td>\n",
       "      <td>[]</td>\n",
       "      <td>(Something, like, over, million, was, mistaken...</td>\n",
       "      <td>[Something, like, over, million, was, mistaken...</td>\n",
       "    </tr>\n",
       "  </tbody>\n",
       "</table>\n",
       "<p>5 rows × 29 columns</p>\n",
       "</div>"
      ],
      "text/plain": [
       "                                                 url  \\\n",
       "0  https://twitter.com/SandraLynnColl3/status/133...   \n",
       "2  https://twitter.com/bunmzi/status/133356432966...   \n",
       "3  https://twitter.com/D313131Daniel/status/13335...   \n",
       "4  https://twitter.com/Paulbyjove1/status/1333563...   \n",
       "5  https://twitter.com/GavinBamber/status/1333563...   \n",
       "\n",
       "                       date  \\\n",
       "0 2020-12-01 00:12:39+00:00   \n",
       "2 2020-12-01 00:11:27+00:00   \n",
       "3 2020-12-01 00:08:32+00:00   \n",
       "4 2020-12-01 00:07:28+00:00   \n",
       "5 2020-12-01 00:07:00+00:00   \n",
       "\n",
       "                                             content  \\\n",
       "0  @mini_bubbly In our Entire extended family, on...   \n",
       "2  @MrStache9 Many Canadians dont realize this. L...   \n",
       "3  @nationalpost @TheGrowthOp So that won’t cost ...   \n",
       "4  @exposforever @MJosling53 @erinotoole @PierreP...   \n",
       "5  @journo_dale Something like over $400 million ...   \n",
       "\n",
       "                                     renderedContent                   id  \\\n",
       "0  @mini_bubbly In our Entire extended family, on...  1333564633320480769   \n",
       "2  @MrStache9 Many Canadians dont realize this. L...  1333564329665441793   \n",
       "3  @nationalpost @TheGrowthOp So that won’t cost ...  1333563595607699464   \n",
       "4  @exposforever @MJosling53 @erinotoole @PierreP...  1333563328040464385   \n",
       "5  @journo_dale Something like over $400 million ...  1333563211216424961   \n",
       "\n",
       "                                                user outlinks tcooutlinks  \\\n",
       "0  {'username': 'SandraLynnColl3', 'displayname':...       []          []   \n",
       "2  {'username': 'bunmzi', 'displayname': 'Mikel A...       []          []   \n",
       "3  {'username': 'D313131Daniel', 'displayname': '...       []          []   \n",
       "4  {'username': 'Paulbyjove1', 'displayname': 'Pa...       []          []   \n",
       "5  {'username': 'GavinBamber', 'displayname': 'Ga...       []          []   \n",
       "\n",
       "   replyCount  retweetCount  ...  quotedTweet  \\\n",
       "0           0             0  ...         None   \n",
       "2           0             1  ...         None   \n",
       "3           0             0  ...         None   \n",
       "4           0             0  ...         None   \n",
       "5           0             0  ...         None   \n",
       "\n",
       "                                      mentionedUsers        user_name  \\\n",
       "0  [{'username': 'mini_bubbly', 'displayname': '🇨...  SandraLynnColl3   \n",
       "2  [{'username': 'MrStache9', 'displayname': 'Mr ...           bunmzi   \n",
       "3  [{'username': 'nationalpost', 'displayname': '...    D313131Daniel   \n",
       "4  [{'username': 'exposforever', 'displayname': '...      Paulbyjove1   \n",
       "5  [{'username': 'journo_dale', 'displayname': 'D...      GavinBamber   \n",
       "\n",
       "  simple_date           location  \\\n",
       "0  2020-12-01             Canada   \n",
       "2  2020-12-01                      \n",
       "3  2020-12-01  Kingston, Ontario   \n",
       "4  2020-12-01                      \n",
       "5  2020-12-01    North Vancouver   \n",
       "\n",
       "                                             no_user  \\\n",
       "0  In our Entire extended family, only one Niece ...   \n",
       "2  Many Canadians dont realize this. Look at the ...   \n",
       "3  So that won’t cost me taxes for cerb payments ...   \n",
       "4  False. The NUMBER 1 ROLE OF GOVT is to PROTECT...   \n",
       "5  Something like over $400 million was mistakenl...   \n",
       "\n",
       "                                               clean hashtags  \\\n",
       "0  In our Entire extended family only one Niece l...       []   \n",
       "2  Many Canadians dont realize this Look at the s...       []   \n",
       "3  So that wont cost me taxes for cerb payments f...       []   \n",
       "4  False The NUMBER ROLE OF GOVT is to PROTECT TH...       []   \n",
       "5  Something like over million was mistakenly sen...       []   \n",
       "\n",
       "                                           spacy_doc  \\\n",
       "0  (In, our, Entire, extended, family, only, one,...   \n",
       "2  (Many, Canadians, do, nt, realize, this, Look,...   \n",
       "3  (So, that, wo, nt, cost, me, taxes, for, cerb,...   \n",
       "4  (False, The, NUMBER, ROLE, OF, GOVT, is, to, P...   \n",
       "5  (Something, like, over, million, was, mistaken...   \n",
       "\n",
       "                                         clean_split  \n",
       "0  [In, our, Entire, extended, family, only, one,...  \n",
       "2  [Many, Canadians, dont, realize, this, Look, a...  \n",
       "3  [So, that, wont, cost, me, taxes, for, cerb, p...  \n",
       "4  [False, The, NUMBER, ROLE, OF, GOVT, is, to, P...  \n",
       "5  [Something, like, over, million, was, mistaken...  \n",
       "\n",
       "[5 rows x 29 columns]"
      ]
     },
     "execution_count": 96,
     "metadata": {},
     "output_type": "execute_result"
    }
   ],
   "source": [
    "df1.head()"
   ]
  },
  {
   "cell_type": "code",
   "execution_count": 89,
   "metadata": {},
   "outputs": [
    {
     "data": {
      "text/plain": [
       "'@88_leanna @Sheliaelaine2 @thecooperpiercy @KCTenants This says Canada’s real unemployment dropped to 9% in September\\nhttps://t.co/EuT9CzOWGV\\n\\nAnd this says the US real unemployment is at 12.8% in September \\n\\nhttps://t.co/WXkxKrBVX4'"
      ]
     },
     "execution_count": 89,
     "metadata": {},
     "output_type": "execute_result"
    }
   ],
   "source": [
    "df1.iloc[22222].content"
   ]
  },
  {
   "cell_type": "code",
   "execution_count": 97,
   "metadata": {},
   "outputs": [
    {
     "data": {
      "text/plain": [
       "'This says Canadas real unemployment dropped to in September And this says the US real unemployment is at in September '"
      ]
     },
     "execution_count": 97,
     "metadata": {},
     "output_type": "execute_result"
    }
   ],
   "source": [
    "df1.iloc[22222].clean"
   ]
  },
  {
   "cell_type": "markdown",
   "metadata": {},
   "source": [
    "The embeddings library that I will use to create my word -> document embeddings can handle hashtag content, so I have not removed them from the substance of the tweet texts, but do want to make a note of them for future EDA."
   ]
  },
  {
   "cell_type": "code",
   "execution_count": 14,
   "metadata": {},
   "outputs": [],
   "source": [
    "df1['hashtags'] = [extract_hashtags(post) for post in df1['no_user']]"
   ]
  },
  {
   "cell_type": "code",
   "execution_count": 15,
   "metadata": {
    "scrolled": false
   },
   "outputs": [
    {
     "data": {
      "text/html": [
       "<div>\n",
       "<style scoped>\n",
       "    .dataframe tbody tr th:only-of-type {\n",
       "        vertical-align: middle;\n",
       "    }\n",
       "\n",
       "    .dataframe tbody tr th {\n",
       "        vertical-align: top;\n",
       "    }\n",
       "\n",
       "    .dataframe thead th {\n",
       "        text-align: right;\n",
       "    }\n",
       "</style>\n",
       "<table border=\"1\" class=\"dataframe\">\n",
       "  <thead>\n",
       "    <tr style=\"text-align: right;\">\n",
       "      <th></th>\n",
       "      <th>url</th>\n",
       "      <th>date</th>\n",
       "      <th>content</th>\n",
       "      <th>renderedContent</th>\n",
       "      <th>id</th>\n",
       "      <th>user</th>\n",
       "      <th>outlinks</th>\n",
       "      <th>tcooutlinks</th>\n",
       "      <th>replyCount</th>\n",
       "      <th>retweetCount</th>\n",
       "      <th>...</th>\n",
       "      <th>media</th>\n",
       "      <th>retweetedTweet</th>\n",
       "      <th>quotedTweet</th>\n",
       "      <th>mentionedUsers</th>\n",
       "      <th>user_name</th>\n",
       "      <th>simple_date</th>\n",
       "      <th>location</th>\n",
       "      <th>no_user</th>\n",
       "      <th>clean</th>\n",
       "      <th>hashtags</th>\n",
       "    </tr>\n",
       "  </thead>\n",
       "  <tbody>\n",
       "    <tr>\n",
       "      <th>59429</th>\n",
       "      <td>https://twitter.com/monkik0u/status/1301533824...</td>\n",
       "      <td>2020-09-03 14:53:39+00:00</td>\n",
       "      <td>Honestly about #cerb i hadnt rly gotten anythi...</td>\n",
       "      <td>Honestly about #cerb i hadnt rly gotten anythi...</td>\n",
       "      <td>1301533824547827713</td>\n",
       "      <td>{'username': 'monkik0u', 'displayname': 'kiki'...</td>\n",
       "      <td>[]</td>\n",
       "      <td>[]</td>\n",
       "      <td>1</td>\n",
       "      <td>0</td>\n",
       "      <td>...</td>\n",
       "      <td>None</td>\n",
       "      <td>NaN</td>\n",
       "      <td>None</td>\n",
       "      <td>None</td>\n",
       "      <td>monkik0u</td>\n",
       "      <td>2020-09-03</td>\n",
       "      <td>🇨🇦</td>\n",
       "      <td>Honestly about #cerb i hadnt rly gotten anythi...</td>\n",
       "      <td>Honestly about cerb i hadnt rly gotten anythin...</td>\n",
       "      <td>[cerb, cra]</td>\n",
       "    </tr>\n",
       "    <tr>\n",
       "      <th>59430</th>\n",
       "      <td>https://twitter.com/quwiyu_rasaq/status/130153...</td>\n",
       "      <td>2020-09-03 14:52:52+00:00</td>\n",
       "      <td>Click on this and no how to make money https:/...</td>\n",
       "      <td>Click on this and no how to make money fiverr....</td>\n",
       "      <td>1301533628422389760</td>\n",
       "      <td>{'username': 'quwiyu_rasaq', 'displayname': 'R...</td>\n",
       "      <td>[https://www.fiverr.com/s2/19bd53591f?utm_sour...</td>\n",
       "      <td>[https://t.co/P9uhOExxAt]</td>\n",
       "      <td>0</td>\n",
       "      <td>0</td>\n",
       "      <td>...</td>\n",
       "      <td>None</td>\n",
       "      <td>NaN</td>\n",
       "      <td>None</td>\n",
       "      <td>None</td>\n",
       "      <td>quwiyu_rasaq</td>\n",
       "      <td>2020-09-03</td>\n",
       "      <td></td>\n",
       "      <td>Click on this and no how to make money https:/...</td>\n",
       "      <td>Click on this and no how to make money BBNaiji...</td>\n",
       "      <td>[BBNaijia2020, BBNaija, bbnajia2020, BBNaijia,...</td>\n",
       "    </tr>\n",
       "    <tr>\n",
       "      <th>59431</th>\n",
       "      <td>https://twitter.com/TothJC/status/130153348261...</td>\n",
       "      <td>2020-09-03 14:52:18+00:00</td>\n",
       "      <td>@Travisdhanraj Yup no CERB yet!!!</td>\n",
       "      <td>@Travisdhanraj Yup no CERB yet!!!</td>\n",
       "      <td>1301533482619998208</td>\n",
       "      <td>{'username': 'TothJC', 'displayname': 'Jenn', ...</td>\n",
       "      <td>[]</td>\n",
       "      <td>[]</td>\n",
       "      <td>0</td>\n",
       "      <td>0</td>\n",
       "      <td>...</td>\n",
       "      <td>None</td>\n",
       "      <td>NaN</td>\n",
       "      <td>None</td>\n",
       "      <td>[{'username': 'Travisdhanraj', 'displayname': ...</td>\n",
       "      <td>TothJC</td>\n",
       "      <td>2020-09-03</td>\n",
       "      <td>Mississauga, Ontario</td>\n",
       "      <td>Yup no CERB yet!!!</td>\n",
       "      <td>Yup no CERB yet</td>\n",
       "      <td>[]</td>\n",
       "    </tr>\n",
       "    <tr>\n",
       "      <th>59432</th>\n",
       "      <td>https://twitter.com/ali_alitajdin/status/13015...</td>\n",
       "      <td>2020-09-03 14:52:04+00:00</td>\n",
       "      <td>***Capabilities***\\nHave you identified your s...</td>\n",
       "      <td>***Capabilities***\\nHave you identified your s...</td>\n",
       "      <td>1301533425116090374</td>\n",
       "      <td>{'username': 'ali_alitajdin', 'displayname': '...</td>\n",
       "      <td>[http://Www.aptm.ca]</td>\n",
       "      <td>[https://t.co/iETd4r81EW]</td>\n",
       "      <td>0</td>\n",
       "      <td>0</td>\n",
       "      <td>...</td>\n",
       "      <td>[{'previewUrl': 'https://pbs.twimg.com/media/E...</td>\n",
       "      <td>NaN</td>\n",
       "      <td>None</td>\n",
       "      <td>None</td>\n",
       "      <td>ali_alitajdin</td>\n",
       "      <td>2020-09-03</td>\n",
       "      <td>Montréal, Québec</td>\n",
       "      <td>***Capabilities*** Have you identified your st...</td>\n",
       "      <td>Capabilities Have you identified your strength...</td>\n",
       "      <td>[CERB, thursdaymorning, EnoughIsEnough, busine...</td>\n",
       "    </tr>\n",
       "    <tr>\n",
       "      <th>59433</th>\n",
       "      <td>https://twitter.com/Peter93443314/status/13015...</td>\n",
       "      <td>2020-09-03 14:52:01+00:00</td>\n",
       "      <td>@My_opinions74 @shaggysmith @cmaconthehill @Ca...</td>\n",
       "      <td>@My_opinions74 @shaggysmith @cmaconthehill @Ca...</td>\n",
       "      <td>1301533414378614786</td>\n",
       "      <td>{'username': 'Peter93443314', 'displayname': '...</td>\n",
       "      <td>[]</td>\n",
       "      <td>[]</td>\n",
       "      <td>0</td>\n",
       "      <td>0</td>\n",
       "      <td>...</td>\n",
       "      <td>None</td>\n",
       "      <td>NaN</td>\n",
       "      <td>None</td>\n",
       "      <td>[{'username': 'My_opinions74', 'displayname': ...</td>\n",
       "      <td>Peter93443314</td>\n",
       "      <td>2020-09-03</td>\n",
       "      <td></td>\n",
       "      <td>I'm back at work in a restaurant and only doin...</td>\n",
       "      <td>Im back at work in a restaurant and only doing...</td>\n",
       "      <td>[]</td>\n",
       "    </tr>\n",
       "  </tbody>\n",
       "</table>\n",
       "<p>5 rows × 27 columns</p>\n",
       "</div>"
      ],
      "text/plain": [
       "                                                     url  \\\n",
       "59429  https://twitter.com/monkik0u/status/1301533824...   \n",
       "59430  https://twitter.com/quwiyu_rasaq/status/130153...   \n",
       "59431  https://twitter.com/TothJC/status/130153348261...   \n",
       "59432  https://twitter.com/ali_alitajdin/status/13015...   \n",
       "59433  https://twitter.com/Peter93443314/status/13015...   \n",
       "\n",
       "                           date  \\\n",
       "59429 2020-09-03 14:53:39+00:00   \n",
       "59430 2020-09-03 14:52:52+00:00   \n",
       "59431 2020-09-03 14:52:18+00:00   \n",
       "59432 2020-09-03 14:52:04+00:00   \n",
       "59433 2020-09-03 14:52:01+00:00   \n",
       "\n",
       "                                                 content  \\\n",
       "59429  Honestly about #cerb i hadnt rly gotten anythi...   \n",
       "59430  Click on this and no how to make money https:/...   \n",
       "59431                  @Travisdhanraj Yup no CERB yet!!!   \n",
       "59432  ***Capabilities***\\nHave you identified your s...   \n",
       "59433  @My_opinions74 @shaggysmith @cmaconthehill @Ca...   \n",
       "\n",
       "                                         renderedContent                   id  \\\n",
       "59429  Honestly about #cerb i hadnt rly gotten anythi...  1301533824547827713   \n",
       "59430  Click on this and no how to make money fiverr....  1301533628422389760   \n",
       "59431                  @Travisdhanraj Yup no CERB yet!!!  1301533482619998208   \n",
       "59432  ***Capabilities***\\nHave you identified your s...  1301533425116090374   \n",
       "59433  @My_opinions74 @shaggysmith @cmaconthehill @Ca...  1301533414378614786   \n",
       "\n",
       "                                                    user  \\\n",
       "59429  {'username': 'monkik0u', 'displayname': 'kiki'...   \n",
       "59430  {'username': 'quwiyu_rasaq', 'displayname': 'R...   \n",
       "59431  {'username': 'TothJC', 'displayname': 'Jenn', ...   \n",
       "59432  {'username': 'ali_alitajdin', 'displayname': '...   \n",
       "59433  {'username': 'Peter93443314', 'displayname': '...   \n",
       "\n",
       "                                                outlinks  \\\n",
       "59429                                                 []   \n",
       "59430  [https://www.fiverr.com/s2/19bd53591f?utm_sour...   \n",
       "59431                                                 []   \n",
       "59432                               [http://Www.aptm.ca]   \n",
       "59433                                                 []   \n",
       "\n",
       "                     tcooutlinks  replyCount  retweetCount  ...  \\\n",
       "59429                         []           1             0  ...   \n",
       "59430  [https://t.co/P9uhOExxAt]           0             0  ...   \n",
       "59431                         []           0             0  ...   \n",
       "59432  [https://t.co/iETd4r81EW]           0             0  ...   \n",
       "59433                         []           0             0  ...   \n",
       "\n",
       "                                                   media  retweetedTweet  \\\n",
       "59429                                               None             NaN   \n",
       "59430                                               None             NaN   \n",
       "59431                                               None             NaN   \n",
       "59432  [{'previewUrl': 'https://pbs.twimg.com/media/E...             NaN   \n",
       "59433                                               None             NaN   \n",
       "\n",
       "       quotedTweet                                     mentionedUsers  \\\n",
       "59429         None                                               None   \n",
       "59430         None                                               None   \n",
       "59431         None  [{'username': 'Travisdhanraj', 'displayname': ...   \n",
       "59432         None                                               None   \n",
       "59433         None  [{'username': 'My_opinions74', 'displayname': ...   \n",
       "\n",
       "           user_name simple_date              location  \\\n",
       "59429       monkik0u  2020-09-03                    🇨🇦   \n",
       "59430   quwiyu_rasaq  2020-09-03                         \n",
       "59431         TothJC  2020-09-03  Mississauga, Ontario   \n",
       "59432  ali_alitajdin  2020-09-03      Montréal, Québec   \n",
       "59433  Peter93443314  2020-09-03                         \n",
       "\n",
       "                                                 no_user  \\\n",
       "59429  Honestly about #cerb i hadnt rly gotten anythi...   \n",
       "59430  Click on this and no how to make money https:/...   \n",
       "59431                                 Yup no CERB yet!!!   \n",
       "59432  ***Capabilities*** Have you identified your st...   \n",
       "59433  I'm back at work in a restaurant and only doin...   \n",
       "\n",
       "                                                   clean  \\\n",
       "59429  Honestly about cerb i hadnt rly gotten anythin...   \n",
       "59430  Click on this and no how to make money BBNaiji...   \n",
       "59431                                    Yup no CERB yet   \n",
       "59432  Capabilities Have you identified your strength...   \n",
       "59433  Im back at work in a restaurant and only doing...   \n",
       "\n",
       "                                                hashtags  \n",
       "59429                                        [cerb, cra]  \n",
       "59430  [BBNaijia2020, BBNaija, bbnajia2020, BBNaijia,...  \n",
       "59431                                                 []  \n",
       "59432  [CERB, thursdaymorning, EnoughIsEnough, busine...  \n",
       "59433                                                 []  \n",
       "\n",
       "[5 rows x 27 columns]"
      ]
     },
     "execution_count": 15,
     "metadata": {},
     "output_type": "execute_result"
    }
   ],
   "source": [
    "df1.iloc[55555:55560]"
   ]
  },
  {
   "cell_type": "markdown",
   "metadata": {},
   "source": [
    "## Sentiment Analysis"
   ]
  },
  {
   "cell_type": "code",
   "execution_count": 91,
   "metadata": {},
   "outputs": [],
   "source": [
    "sid = SentimentIntensityAnalyzer()"
   ]
  },
  {
   "cell_type": "code",
   "execution_count": 98,
   "metadata": {},
   "outputs": [],
   "source": [
    "df1['list_vader_scores'] = df1['clean'].apply(lambda content: sid.polarity_scores(content))"
   ]
  },
  {
   "cell_type": "code",
   "execution_count": 100,
   "metadata": {},
   "outputs": [],
   "source": [
    "df1['compound']  = df1['list_vader_scores'].apply(lambda score_dict: score_dict['compound'])"
   ]
  },
  {
   "cell_type": "code",
   "execution_count": 128,
   "metadata": {},
   "outputs": [],
   "source": [
    "scores = make_vader_score(df1,'compound')"
   ]
  },
  {
   "cell_type": "code",
   "execution_count": 129,
   "metadata": {},
   "outputs": [],
   "source": [
    "df1['vader_score'] = scores "
   ]
  },
  {
   "cell_type": "code",
   "execution_count": 131,
   "metadata": {
    "scrolled": true
   },
   "outputs": [
    {
     "data": {
      "text/html": [
       "<div>\n",
       "<style scoped>\n",
       "    .dataframe tbody tr th:only-of-type {\n",
       "        vertical-align: middle;\n",
       "    }\n",
       "\n",
       "    .dataframe tbody tr th {\n",
       "        vertical-align: top;\n",
       "    }\n",
       "\n",
       "    .dataframe thead th {\n",
       "        text-align: right;\n",
       "    }\n",
       "</style>\n",
       "<table border=\"1\" class=\"dataframe\">\n",
       "  <thead>\n",
       "    <tr style=\"text-align: right;\">\n",
       "      <th></th>\n",
       "      <th>url</th>\n",
       "      <th>date</th>\n",
       "      <th>content</th>\n",
       "      <th>renderedContent</th>\n",
       "      <th>id</th>\n",
       "      <th>user</th>\n",
       "      <th>outlinks</th>\n",
       "      <th>tcooutlinks</th>\n",
       "      <th>replyCount</th>\n",
       "      <th>retweetCount</th>\n",
       "      <th>...</th>\n",
       "      <th>simple_date</th>\n",
       "      <th>location</th>\n",
       "      <th>no_user</th>\n",
       "      <th>clean</th>\n",
       "      <th>hashtags</th>\n",
       "      <th>spacy_doc</th>\n",
       "      <th>clean_split</th>\n",
       "      <th>list_vader_scores</th>\n",
       "      <th>compound</th>\n",
       "      <th>vader_score</th>\n",
       "    </tr>\n",
       "  </thead>\n",
       "  <tbody>\n",
       "    <tr>\n",
       "      <th>52</th>\n",
       "      <td>https://twitter.com/CafeLakeSide_/status/13335...</td>\n",
       "      <td>2020-11-30 23:12:14+00:00</td>\n",
       "      <td>@CP24 @JustinTrudeau I should not have said th...</td>\n",
       "      <td>@CP24 @JustinTrudeau I should not have said th...</td>\n",
       "      <td>1333549429111070728</td>\n",
       "      <td>{'username': 'CafeLakeSide_', 'displayname': '...</td>\n",
       "      <td>[]</td>\n",
       "      <td>[]</td>\n",
       "      <td>0</td>\n",
       "      <td>0</td>\n",
       "      <td>...</td>\n",
       "      <td>2020-11-30</td>\n",
       "      <td>Toronto, Ontario</td>\n",
       "      <td>I should not have said that. I am happy for he...</td>\n",
       "      <td>I should not have said that I am happy for her...</td>\n",
       "      <td>[]</td>\n",
       "      <td>(I, should, not, have, said, that, I, am, happ...</td>\n",
       "      <td>[I, should, not, have, said, that, I, am, happ...</td>\n",
       "      <td>{'neg': 0.0, 'neu': 0.835, 'pos': 0.165, 'comp...</td>\n",
       "      <td>0.8658</td>\n",
       "      <td>Positive</td>\n",
       "    </tr>\n",
       "    <tr>\n",
       "      <th>53</th>\n",
       "      <td>https://twitter.com/MichelletypoQ/status/13335...</td>\n",
       "      <td>2020-11-30 23:11:33+00:00</td>\n",
       "      <td>@VanasseSimon @samifouad Did you even read the...</td>\n",
       "      <td>@VanasseSimon @samifouad Did you even read the...</td>\n",
       "      <td>1333549255965851648</td>\n",
       "      <td>{'username': 'MichelletypoQ', 'displayname': '...</td>\n",
       "      <td>[]</td>\n",
       "      <td>[]</td>\n",
       "      <td>1</td>\n",
       "      <td>0</td>\n",
       "      <td>...</td>\n",
       "      <td>2020-11-30</td>\n",
       "      <td>Canada</td>\n",
       "      <td>Did you even read the article you posted? Ther...</td>\n",
       "      <td>Did you even read the article you posted There...</td>\n",
       "      <td>[]</td>\n",
       "      <td>(Did, you, even, read, the, article, you, post...</td>\n",
       "      <td>[Did, you, even, read, the, article, you, post...</td>\n",
       "      <td>{'neg': 0.081, 'neu': 0.739, 'pos': 0.18, 'com...</td>\n",
       "      <td>0.6705</td>\n",
       "      <td>Positive</td>\n",
       "    </tr>\n",
       "    <tr>\n",
       "      <th>54</th>\n",
       "      <td>https://twitter.com/JacquieNlgirl/status/13335...</td>\n",
       "      <td>2020-11-30 23:11:12+00:00</td>\n",
       "      <td>@mini_bubbly I did collect as my industry wash...</td>\n",
       "      <td>@mini_bubbly I did collect as my industry wash...</td>\n",
       "      <td>1333549166992125953</td>\n",
       "      <td>{'username': 'JacquieNlgirl', 'displayname': '...</td>\n",
       "      <td>[]</td>\n",
       "      <td>[]</td>\n",
       "      <td>1</td>\n",
       "      <td>1</td>\n",
       "      <td>...</td>\n",
       "      <td>2020-11-30</td>\n",
       "      <td></td>\n",
       "      <td>I did collect as my industry wash shut down fo...</td>\n",
       "      <td>I did collect as my industry wash shut down fo...</td>\n",
       "      <td>[]</td>\n",
       "      <td>(I, did, collect, as, my, industry, wash, shut...</td>\n",
       "      <td>[I, did, collect, as, my, industry, wash, shut...</td>\n",
       "      <td>{'neg': 0.0, 'neu': 1.0, 'pos': 0.0, 'compound...</td>\n",
       "      <td>0.0000</td>\n",
       "      <td>Neutral</td>\n",
       "    </tr>\n",
       "    <tr>\n",
       "      <th>55</th>\n",
       "      <td>https://twitter.com/SandyHasCandy/status/13335...</td>\n",
       "      <td>2020-11-30 23:10:54+00:00</td>\n",
       "      <td>@NEWSTALK1010 Could someone please read the Co...</td>\n",
       "      <td>@NEWSTALK1010 Could someone please read the Co...</td>\n",
       "      <td>1333549093134725120</td>\n",
       "      <td>{'username': 'SandyHasCandy', 'displayname': '...</td>\n",
       "      <td>[]</td>\n",
       "      <td>[]</td>\n",
       "      <td>0</td>\n",
       "      <td>0</td>\n",
       "      <td>...</td>\n",
       "      <td>2020-11-30</td>\n",
       "      <td></td>\n",
       "      <td>Could someone please read the Constitution to ...</td>\n",
       "      <td>Could someone please read the Constitution to ...</td>\n",
       "      <td>[]</td>\n",
       "      <td>(Could, someone, please, read, the, Constituti...</td>\n",
       "      <td>[Could, someone, please, read, the, Constituti...</td>\n",
       "      <td>{'neg': 0.085, 'neu': 0.772, 'pos': 0.143, 'co...</td>\n",
       "      <td>0.2960</td>\n",
       "      <td>Positive</td>\n",
       "    </tr>\n",
       "    <tr>\n",
       "      <th>56</th>\n",
       "      <td>https://twitter.com/AnneElk80/status/133354898...</td>\n",
       "      <td>2020-11-30 23:10:28+00:00</td>\n",
       "      <td>@CTVNews Congratulations to Minister Freeland ...</td>\n",
       "      <td>@CTVNews Congratulations to Minister Freeland ...</td>\n",
       "      <td>1333548984921698304</td>\n",
       "      <td>{'username': 'AnneElk80', 'displayname': 'Anne...</td>\n",
       "      <td>[]</td>\n",
       "      <td>[]</td>\n",
       "      <td>0</td>\n",
       "      <td>0</td>\n",
       "      <td>...</td>\n",
       "      <td>2020-11-30</td>\n",
       "      <td>Dartford, UK</td>\n",
       "      <td>Congratulations to Minister Freeland for a fir...</td>\n",
       "      <td>Congratulations to Minister Freeland for a fir...</td>\n",
       "      <td>[]</td>\n",
       "      <td>(Congratulations, to, Minister, Freeland, for,...</td>\n",
       "      <td>[Congratulations, to, Minister, Freeland, for,...</td>\n",
       "      <td>{'neg': 0.0, 'neu': 0.862, 'pos': 0.138, 'comp...</td>\n",
       "      <td>0.7506</td>\n",
       "      <td>Positive</td>\n",
       "    </tr>\n",
       "  </tbody>\n",
       "</table>\n",
       "<p>5 rows × 32 columns</p>\n",
       "</div>"
      ],
      "text/plain": [
       "                                                  url  \\\n",
       "52  https://twitter.com/CafeLakeSide_/status/13335...   \n",
       "53  https://twitter.com/MichelletypoQ/status/13335...   \n",
       "54  https://twitter.com/JacquieNlgirl/status/13335...   \n",
       "55  https://twitter.com/SandyHasCandy/status/13335...   \n",
       "56  https://twitter.com/AnneElk80/status/133354898...   \n",
       "\n",
       "                        date  \\\n",
       "52 2020-11-30 23:12:14+00:00   \n",
       "53 2020-11-30 23:11:33+00:00   \n",
       "54 2020-11-30 23:11:12+00:00   \n",
       "55 2020-11-30 23:10:54+00:00   \n",
       "56 2020-11-30 23:10:28+00:00   \n",
       "\n",
       "                                              content  \\\n",
       "52  @CP24 @JustinTrudeau I should not have said th...   \n",
       "53  @VanasseSimon @samifouad Did you even read the...   \n",
       "54  @mini_bubbly I did collect as my industry wash...   \n",
       "55  @NEWSTALK1010 Could someone please read the Co...   \n",
       "56  @CTVNews Congratulations to Minister Freeland ...   \n",
       "\n",
       "                                      renderedContent                   id  \\\n",
       "52  @CP24 @JustinTrudeau I should not have said th...  1333549429111070728   \n",
       "53  @VanasseSimon @samifouad Did you even read the...  1333549255965851648   \n",
       "54  @mini_bubbly I did collect as my industry wash...  1333549166992125953   \n",
       "55  @NEWSTALK1010 Could someone please read the Co...  1333549093134725120   \n",
       "56  @CTVNews Congratulations to Minister Freeland ...  1333548984921698304   \n",
       "\n",
       "                                                 user outlinks tcooutlinks  \\\n",
       "52  {'username': 'CafeLakeSide_', 'displayname': '...       []          []   \n",
       "53  {'username': 'MichelletypoQ', 'displayname': '...       []          []   \n",
       "54  {'username': 'JacquieNlgirl', 'displayname': '...       []          []   \n",
       "55  {'username': 'SandyHasCandy', 'displayname': '...       []          []   \n",
       "56  {'username': 'AnneElk80', 'displayname': 'Anne...       []          []   \n",
       "\n",
       "    replyCount  retweetCount  ...  simple_date          location  \\\n",
       "52           0             0  ...   2020-11-30  Toronto, Ontario   \n",
       "53           1             0  ...   2020-11-30            Canada   \n",
       "54           1             1  ...   2020-11-30                     \n",
       "55           0             0  ...   2020-11-30                     \n",
       "56           0             0  ...   2020-11-30      Dartford, UK   \n",
       "\n",
       "                                              no_user  \\\n",
       "52  I should not have said that. I am happy for he...   \n",
       "53  Did you even read the article you posted? Ther...   \n",
       "54  I did collect as my industry wash shut down fo...   \n",
       "55  Could someone please read the Constitution to ...   \n",
       "56  Congratulations to Minister Freeland for a fir...   \n",
       "\n",
       "                                                clean hashtags  \\\n",
       "52  I should not have said that I am happy for her...       []   \n",
       "53  Did you even read the article you posted There...       []   \n",
       "54  I did collect as my industry wash shut down fo...       []   \n",
       "55  Could someone please read the Constitution to ...       []   \n",
       "56  Congratulations to Minister Freeland for a fir...       []   \n",
       "\n",
       "                                            spacy_doc  \\\n",
       "52  (I, should, not, have, said, that, I, am, happ...   \n",
       "53  (Did, you, even, read, the, article, you, post...   \n",
       "54  (I, did, collect, as, my, industry, wash, shut...   \n",
       "55  (Could, someone, please, read, the, Constituti...   \n",
       "56  (Congratulations, to, Minister, Freeland, for,...   \n",
       "\n",
       "                                          clean_split  \\\n",
       "52  [I, should, not, have, said, that, I, am, happ...   \n",
       "53  [Did, you, even, read, the, article, you, post...   \n",
       "54  [I, did, collect, as, my, industry, wash, shut...   \n",
       "55  [Could, someone, please, read, the, Constituti...   \n",
       "56  [Congratulations, to, Minister, Freeland, for,...   \n",
       "\n",
       "                                    list_vader_scores  compound vader_score  \n",
       "52  {'neg': 0.0, 'neu': 0.835, 'pos': 0.165, 'comp...    0.8658    Positive  \n",
       "53  {'neg': 0.081, 'neu': 0.739, 'pos': 0.18, 'com...    0.6705    Positive  \n",
       "54  {'neg': 0.0, 'neu': 1.0, 'pos': 0.0, 'compound...    0.0000     Neutral  \n",
       "55  {'neg': 0.085, 'neu': 0.772, 'pos': 0.143, 'co...    0.2960    Positive  \n",
       "56  {'neg': 0.0, 'neu': 0.862, 'pos': 0.138, 'comp...    0.7506    Positive  \n",
       "\n",
       "[5 rows x 32 columns]"
      ]
     },
     "execution_count": 131,
     "metadata": {},
     "output_type": "execute_result"
    }
   ],
   "source": [
    "df1.iloc[50:55]"
   ]
  },
  {
   "cell_type": "code",
   "execution_count": 132,
   "metadata": {},
   "outputs": [],
   "source": [
    "with open('df1_pre_spacy.pkl', 'wb') as write_file:\n",
    "    pickle.dump(df1, write_file)"
   ]
  },
  {
   "cell_type": "code",
   "execution_count": 133,
   "metadata": {},
   "outputs": [
    {
     "data": {
      "text/plain": [
       "(240808, 32)"
      ]
     },
     "execution_count": 133,
     "metadata": {},
     "output_type": "execute_result"
    }
   ],
   "source": [
    "df1.shape"
   ]
  },
  {
   "cell_type": "markdown",
   "metadata": {},
   "source": [
    "## Tokenize with Spacy"
   ]
  },
  {
   "cell_type": "code",
   "execution_count": 220,
   "metadata": {},
   "outputs": [
    {
     "name": "stdout",
     "output_type": "stream",
     "text": [
      "CPU times: user 10min 58s, sys: 3min 12s, total: 14min 10s\n",
      "Wall time: 15min 28s\n"
     ]
    }
   ],
   "source": [
    "%%time\n",
    "spacy_docs = list(nlp.pipe(df1['clean']))"
   ]
  },
  {
   "cell_type": "code",
   "execution_count": 252,
   "metadata": {},
   "outputs": [
    {
     "data": {
      "text/plain": [
       "[In our Entire extended family only one Niece lost her job she was in the Travel Industry She enrolled in classes online and the CERB allowed her to do this,\n",
       " Many Canadians dont realize this Look at the squealing when its time to pay taxes on those CERB money next spring,\n",
       " So that wont cost me taxes for cerb payments for years,\n",
       " False The NUMBER ROLE OF GOVT is to PROTECT THE CITIZENS And per the rest Canada is doing well per AAA credit rating unemployment amp job recovery Know what would help tho If the idiot Con Premiers would DO THEIR JOBS amp not rely on cheesecake slogans amp prayer,\n",
       " Something like over million was mistakenly sent out for CERB so yes they overspent on the CERB But you knew that]"
      ]
     },
     "execution_count": 252,
     "metadata": {},
     "output_type": "execute_result"
    }
   ],
   "source": [
    "spacy_docs[0:5]"
   ]
  },
  {
   "cell_type": "code",
   "execution_count": 224,
   "metadata": {},
   "outputs": [
    {
     "data": {
      "text/plain": [
       "240808"
      ]
     },
     "execution_count": 224,
     "metadata": {},
     "output_type": "execute_result"
    }
   ],
   "source": [
    "len(spacy_docs)"
   ]
  },
  {
   "cell_type": "code",
   "execution_count": 237,
   "metadata": {},
   "outputs": [],
   "source": [
    "df1['spacy_doc'] = spacy_docs"
   ]
  },
  {
   "cell_type": "code",
   "execution_count": 261,
   "metadata": {},
   "outputs": [
    {
     "data": {
      "text/html": [
       "<div>\n",
       "<style scoped>\n",
       "    .dataframe tbody tr th:only-of-type {\n",
       "        vertical-align: middle;\n",
       "    }\n",
       "\n",
       "    .dataframe tbody tr th {\n",
       "        vertical-align: top;\n",
       "    }\n",
       "\n",
       "    .dataframe thead th {\n",
       "        text-align: right;\n",
       "    }\n",
       "</style>\n",
       "<table border=\"1\" class=\"dataframe\">\n",
       "  <thead>\n",
       "    <tr style=\"text-align: right;\">\n",
       "      <th></th>\n",
       "      <th>url</th>\n",
       "      <th>date</th>\n",
       "      <th>content</th>\n",
       "      <th>renderedContent</th>\n",
       "      <th>id</th>\n",
       "      <th>user</th>\n",
       "      <th>outlinks</th>\n",
       "      <th>tcooutlinks</th>\n",
       "      <th>replyCount</th>\n",
       "      <th>retweetCount</th>\n",
       "      <th>...</th>\n",
       "      <th>simple_date</th>\n",
       "      <th>location</th>\n",
       "      <th>no_user</th>\n",
       "      <th>clean</th>\n",
       "      <th>hashtags</th>\n",
       "      <th>clean_split</th>\n",
       "      <th>list_vader_scores</th>\n",
       "      <th>compound</th>\n",
       "      <th>vader_score</th>\n",
       "      <th>spacy_doc</th>\n",
       "    </tr>\n",
       "  </thead>\n",
       "  <tbody>\n",
       "    <tr>\n",
       "      <th>0</th>\n",
       "      <td>https://twitter.com/SandraLynnColl3/status/133...</td>\n",
       "      <td>2020-12-01 00:12:39+00:00</td>\n",
       "      <td>@mini_bubbly In our Entire extended family, on...</td>\n",
       "      <td>@mini_bubbly In our Entire extended family, on...</td>\n",
       "      <td>1333564633320480769</td>\n",
       "      <td>{'username': 'SandraLynnColl3', 'displayname':...</td>\n",
       "      <td>[]</td>\n",
       "      <td>[]</td>\n",
       "      <td>0</td>\n",
       "      <td>0</td>\n",
       "      <td>...</td>\n",
       "      <td>2020-12-01</td>\n",
       "      <td>Canada</td>\n",
       "      <td>In our Entire extended family, only one Niece ...</td>\n",
       "      <td>In our Entire extended family only one Niece l...</td>\n",
       "      <td>[]</td>\n",
       "      <td>[In, our, Entire, extended, family, only, one,...</td>\n",
       "      <td>{'neg': 0.073, 'neu': 0.927, 'pos': 0.0, 'comp...</td>\n",
       "      <td>-0.3182</td>\n",
       "      <td>Negative</td>\n",
       "      <td>(In, our, Entire, extended, family, only, one,...</td>\n",
       "    </tr>\n",
       "    <tr>\n",
       "      <th>2</th>\n",
       "      <td>https://twitter.com/bunmzi/status/133356432966...</td>\n",
       "      <td>2020-12-01 00:11:27+00:00</td>\n",
       "      <td>@MrStache9 Many Canadians dont realize this. L...</td>\n",
       "      <td>@MrStache9 Many Canadians dont realize this. L...</td>\n",
       "      <td>1333564329665441793</td>\n",
       "      <td>{'username': 'bunmzi', 'displayname': 'Mikel A...</td>\n",
       "      <td>[]</td>\n",
       "      <td>[]</td>\n",
       "      <td>0</td>\n",
       "      <td>1</td>\n",
       "      <td>...</td>\n",
       "      <td>2020-12-01</td>\n",
       "      <td></td>\n",
       "      <td>Many Canadians dont realize this. Look at the ...</td>\n",
       "      <td>Many Canadians dont realize this Look at the s...</td>\n",
       "      <td>[]</td>\n",
       "      <td>[Many, Canadians, dont, realize, this, Look, a...</td>\n",
       "      <td>{'neg': 0.065, 'neu': 0.935, 'pos': 0.0, 'comp...</td>\n",
       "      <td>-0.1027</td>\n",
       "      <td>Negative</td>\n",
       "      <td>(Many, Canadians, do, nt, realize, this, Look,...</td>\n",
       "    </tr>\n",
       "    <tr>\n",
       "      <th>3</th>\n",
       "      <td>https://twitter.com/D313131Daniel/status/13335...</td>\n",
       "      <td>2020-12-01 00:08:32+00:00</td>\n",
       "      <td>@nationalpost @TheGrowthOp So that won’t cost ...</td>\n",
       "      <td>@nationalpost @TheGrowthOp So that won’t cost ...</td>\n",
       "      <td>1333563595607699464</td>\n",
       "      <td>{'username': 'D313131Daniel', 'displayname': '...</td>\n",
       "      <td>[]</td>\n",
       "      <td>[]</td>\n",
       "      <td>0</td>\n",
       "      <td>0</td>\n",
       "      <td>...</td>\n",
       "      <td>2020-12-01</td>\n",
       "      <td>Kingston, Ontario</td>\n",
       "      <td>So that won’t cost me taxes for cerb payments ...</td>\n",
       "      <td>So that wont cost me taxes for cerb payments f...</td>\n",
       "      <td>[]</td>\n",
       "      <td>[So, that, wont, cost, me, taxes, for, cerb, p...</td>\n",
       "      <td>{'neg': 0.0, 'neu': 1.0, 'pos': 0.0, 'compound...</td>\n",
       "      <td>0.0000</td>\n",
       "      <td>Neutral</td>\n",
       "      <td>(So, that, wo, nt, cost, me, taxes, for, cerb,...</td>\n",
       "    </tr>\n",
       "    <tr>\n",
       "      <th>4</th>\n",
       "      <td>https://twitter.com/Paulbyjove1/status/1333563...</td>\n",
       "      <td>2020-12-01 00:07:28+00:00</td>\n",
       "      <td>@exposforever @MJosling53 @erinotoole @PierreP...</td>\n",
       "      <td>@exposforever @MJosling53 @erinotoole @PierreP...</td>\n",
       "      <td>1333563328040464385</td>\n",
       "      <td>{'username': 'Paulbyjove1', 'displayname': 'Pa...</td>\n",
       "      <td>[]</td>\n",
       "      <td>[]</td>\n",
       "      <td>0</td>\n",
       "      <td>0</td>\n",
       "      <td>...</td>\n",
       "      <td>2020-12-01</td>\n",
       "      <td></td>\n",
       "      <td>False. The NUMBER 1 ROLE OF GOVT is to PROTECT...</td>\n",
       "      <td>False The NUMBER ROLE OF GOVT is to PROTECT TH...</td>\n",
       "      <td>[]</td>\n",
       "      <td>[False, The, NUMBER, ROLE, OF, GOVT, is, to, P...</td>\n",
       "      <td>{'neg': 0.102, 'neu': 0.689, 'pos': 0.209, 'co...</td>\n",
       "      <td>0.6774</td>\n",
       "      <td>Positive</td>\n",
       "      <td>(False, The, NUMBER, ROLE, OF, GOVT, is, to, P...</td>\n",
       "    </tr>\n",
       "    <tr>\n",
       "      <th>5</th>\n",
       "      <td>https://twitter.com/GavinBamber/status/1333563...</td>\n",
       "      <td>2020-12-01 00:07:00+00:00</td>\n",
       "      <td>@journo_dale Something like over $400 million ...</td>\n",
       "      <td>@journo_dale Something like over $400 million ...</td>\n",
       "      <td>1333563211216424961</td>\n",
       "      <td>{'username': 'GavinBamber', 'displayname': 'Ga...</td>\n",
       "      <td>[]</td>\n",
       "      <td>[]</td>\n",
       "      <td>0</td>\n",
       "      <td>0</td>\n",
       "      <td>...</td>\n",
       "      <td>2020-12-01</td>\n",
       "      <td>North Vancouver</td>\n",
       "      <td>Something like over $400 million was mistakenl...</td>\n",
       "      <td>Something like over million was mistakenly sen...</td>\n",
       "      <td>[]</td>\n",
       "      <td>[Something, like, over, million, was, mistaken...</td>\n",
       "      <td>{'neg': 0.068, 'neu': 0.763, 'pos': 0.169, 'co...</td>\n",
       "      <td>0.3390</td>\n",
       "      <td>Positive</td>\n",
       "      <td>(Something, like, over, million, was, mistaken...</td>\n",
       "    </tr>\n",
       "  </tbody>\n",
       "</table>\n",
       "<p>5 rows × 32 columns</p>\n",
       "</div>"
      ],
      "text/plain": [
       "                                                 url  \\\n",
       "0  https://twitter.com/SandraLynnColl3/status/133...   \n",
       "2  https://twitter.com/bunmzi/status/133356432966...   \n",
       "3  https://twitter.com/D313131Daniel/status/13335...   \n",
       "4  https://twitter.com/Paulbyjove1/status/1333563...   \n",
       "5  https://twitter.com/GavinBamber/status/1333563...   \n",
       "\n",
       "                       date  \\\n",
       "0 2020-12-01 00:12:39+00:00   \n",
       "2 2020-12-01 00:11:27+00:00   \n",
       "3 2020-12-01 00:08:32+00:00   \n",
       "4 2020-12-01 00:07:28+00:00   \n",
       "5 2020-12-01 00:07:00+00:00   \n",
       "\n",
       "                                             content  \\\n",
       "0  @mini_bubbly In our Entire extended family, on...   \n",
       "2  @MrStache9 Many Canadians dont realize this. L...   \n",
       "3  @nationalpost @TheGrowthOp So that won’t cost ...   \n",
       "4  @exposforever @MJosling53 @erinotoole @PierreP...   \n",
       "5  @journo_dale Something like over $400 million ...   \n",
       "\n",
       "                                     renderedContent                   id  \\\n",
       "0  @mini_bubbly In our Entire extended family, on...  1333564633320480769   \n",
       "2  @MrStache9 Many Canadians dont realize this. L...  1333564329665441793   \n",
       "3  @nationalpost @TheGrowthOp So that won’t cost ...  1333563595607699464   \n",
       "4  @exposforever @MJosling53 @erinotoole @PierreP...  1333563328040464385   \n",
       "5  @journo_dale Something like over $400 million ...  1333563211216424961   \n",
       "\n",
       "                                                user outlinks tcooutlinks  \\\n",
       "0  {'username': 'SandraLynnColl3', 'displayname':...       []          []   \n",
       "2  {'username': 'bunmzi', 'displayname': 'Mikel A...       []          []   \n",
       "3  {'username': 'D313131Daniel', 'displayname': '...       []          []   \n",
       "4  {'username': 'Paulbyjove1', 'displayname': 'Pa...       []          []   \n",
       "5  {'username': 'GavinBamber', 'displayname': 'Ga...       []          []   \n",
       "\n",
       "   replyCount  retweetCount  ...  simple_date           location  \\\n",
       "0           0             0  ...   2020-12-01             Canada   \n",
       "2           0             1  ...   2020-12-01                      \n",
       "3           0             0  ...   2020-12-01  Kingston, Ontario   \n",
       "4           0             0  ...   2020-12-01                      \n",
       "5           0             0  ...   2020-12-01    North Vancouver   \n",
       "\n",
       "                                             no_user  \\\n",
       "0  In our Entire extended family, only one Niece ...   \n",
       "2  Many Canadians dont realize this. Look at the ...   \n",
       "3  So that won’t cost me taxes for cerb payments ...   \n",
       "4  False. The NUMBER 1 ROLE OF GOVT is to PROTECT...   \n",
       "5  Something like over $400 million was mistakenl...   \n",
       "\n",
       "                                               clean hashtags  \\\n",
       "0  In our Entire extended family only one Niece l...       []   \n",
       "2  Many Canadians dont realize this Look at the s...       []   \n",
       "3  So that wont cost me taxes for cerb payments f...       []   \n",
       "4  False The NUMBER ROLE OF GOVT is to PROTECT TH...       []   \n",
       "5  Something like over million was mistakenly sen...       []   \n",
       "\n",
       "                                         clean_split  \\\n",
       "0  [In, our, Entire, extended, family, only, one,...   \n",
       "2  [Many, Canadians, dont, realize, this, Look, a...   \n",
       "3  [So, that, wont, cost, me, taxes, for, cerb, p...   \n",
       "4  [False, The, NUMBER, ROLE, OF, GOVT, is, to, P...   \n",
       "5  [Something, like, over, million, was, mistaken...   \n",
       "\n",
       "                                   list_vader_scores compound  vader_score  \\\n",
       "0  {'neg': 0.073, 'neu': 0.927, 'pos': 0.0, 'comp...  -0.3182     Negative   \n",
       "2  {'neg': 0.065, 'neu': 0.935, 'pos': 0.0, 'comp...  -0.1027     Negative   \n",
       "3  {'neg': 0.0, 'neu': 1.0, 'pos': 0.0, 'compound...   0.0000      Neutral   \n",
       "4  {'neg': 0.102, 'neu': 0.689, 'pos': 0.209, 'co...   0.6774     Positive   \n",
       "5  {'neg': 0.068, 'neu': 0.763, 'pos': 0.169, 'co...   0.3390     Positive   \n",
       "\n",
       "                                           spacy_doc  \n",
       "0  (In, our, Entire, extended, family, only, one,...  \n",
       "2  (Many, Canadians, do, nt, realize, this, Look,...  \n",
       "3  (So, that, wo, nt, cost, me, taxes, for, cerb,...  \n",
       "4  (False, The, NUMBER, ROLE, OF, GOVT, is, to, P...  \n",
       "5  (Something, like, over, million, was, mistaken...  \n",
       "\n",
       "[5 rows x 32 columns]"
      ]
     },
     "execution_count": 261,
     "metadata": {},
     "output_type": "execute_result"
    }
   ],
   "source": [
    "df1.head()"
   ]
  },
  {
   "cell_type": "markdown",
   "metadata": {},
   "source": [
    "Spacy has not actually returned a list for each item in `df1['clean']`, but we need spacy docs to be in list form in order to create the word emeddings vectors. To do that, iterate through `df1['spacy_doc']` to make a list of the tokens for each tweet. "
   ]
  },
  {
   "cell_type": "code",
   "execution_count": 262,
   "metadata": {},
   "outputs": [],
   "source": [
    "row_list = []\n",
    "for index, rows in df1.iterrows():\n",
    "    my_list = [str(x) for x in rows.spacy_doc]\n",
    "    row_list.append(my_list)"
   ]
  },
  {
   "cell_type": "markdown",
   "metadata": {},
   "source": [
    "Add this to the dataframe"
   ]
  },
  {
   "cell_type": "code",
   "execution_count": 263,
   "metadata": {},
   "outputs": [],
   "source": [
    "df1['for_vecs'] = row_list"
   ]
  },
  {
   "cell_type": "code",
   "execution_count": 264,
   "metadata": {},
   "outputs": [
    {
     "data": {
      "text/html": [
       "<div>\n",
       "<style scoped>\n",
       "    .dataframe tbody tr th:only-of-type {\n",
       "        vertical-align: middle;\n",
       "    }\n",
       "\n",
       "    .dataframe tbody tr th {\n",
       "        vertical-align: top;\n",
       "    }\n",
       "\n",
       "    .dataframe thead th {\n",
       "        text-align: right;\n",
       "    }\n",
       "</style>\n",
       "<table border=\"1\" class=\"dataframe\">\n",
       "  <thead>\n",
       "    <tr style=\"text-align: right;\">\n",
       "      <th></th>\n",
       "      <th>url</th>\n",
       "      <th>date</th>\n",
       "      <th>content</th>\n",
       "      <th>renderedContent</th>\n",
       "      <th>id</th>\n",
       "      <th>user</th>\n",
       "      <th>outlinks</th>\n",
       "      <th>tcooutlinks</th>\n",
       "      <th>replyCount</th>\n",
       "      <th>retweetCount</th>\n",
       "      <th>...</th>\n",
       "      <th>location</th>\n",
       "      <th>no_user</th>\n",
       "      <th>clean</th>\n",
       "      <th>hashtags</th>\n",
       "      <th>clean_split</th>\n",
       "      <th>list_vader_scores</th>\n",
       "      <th>compound</th>\n",
       "      <th>vader_score</th>\n",
       "      <th>spacy_doc</th>\n",
       "      <th>for_vecs</th>\n",
       "    </tr>\n",
       "  </thead>\n",
       "  <tbody>\n",
       "    <tr>\n",
       "      <th>0</th>\n",
       "      <td>https://twitter.com/SandraLynnColl3/status/133...</td>\n",
       "      <td>2020-12-01 00:12:39+00:00</td>\n",
       "      <td>@mini_bubbly In our Entire extended family, on...</td>\n",
       "      <td>@mini_bubbly In our Entire extended family, on...</td>\n",
       "      <td>1333564633320480769</td>\n",
       "      <td>{'username': 'SandraLynnColl3', 'displayname':...</td>\n",
       "      <td>[]</td>\n",
       "      <td>[]</td>\n",
       "      <td>0</td>\n",
       "      <td>0</td>\n",
       "      <td>...</td>\n",
       "      <td>Canada</td>\n",
       "      <td>In our Entire extended family, only one Niece ...</td>\n",
       "      <td>In our Entire extended family only one Niece l...</td>\n",
       "      <td>[]</td>\n",
       "      <td>[In, our, Entire, extended, family, only, one,...</td>\n",
       "      <td>{'neg': 0.073, 'neu': 0.927, 'pos': 0.0, 'comp...</td>\n",
       "      <td>-0.3182</td>\n",
       "      <td>Negative</td>\n",
       "      <td>(In, our, Entire, extended, family, only, one,...</td>\n",
       "      <td>[In, our, Entire, extended, family, only, one,...</td>\n",
       "    </tr>\n",
       "    <tr>\n",
       "      <th>2</th>\n",
       "      <td>https://twitter.com/bunmzi/status/133356432966...</td>\n",
       "      <td>2020-12-01 00:11:27+00:00</td>\n",
       "      <td>@MrStache9 Many Canadians dont realize this. L...</td>\n",
       "      <td>@MrStache9 Many Canadians dont realize this. L...</td>\n",
       "      <td>1333564329665441793</td>\n",
       "      <td>{'username': 'bunmzi', 'displayname': 'Mikel A...</td>\n",
       "      <td>[]</td>\n",
       "      <td>[]</td>\n",
       "      <td>0</td>\n",
       "      <td>1</td>\n",
       "      <td>...</td>\n",
       "      <td></td>\n",
       "      <td>Many Canadians dont realize this. Look at the ...</td>\n",
       "      <td>Many Canadians dont realize this Look at the s...</td>\n",
       "      <td>[]</td>\n",
       "      <td>[Many, Canadians, dont, realize, this, Look, a...</td>\n",
       "      <td>{'neg': 0.065, 'neu': 0.935, 'pos': 0.0, 'comp...</td>\n",
       "      <td>-0.1027</td>\n",
       "      <td>Negative</td>\n",
       "      <td>(Many, Canadians, do, nt, realize, this, Look,...</td>\n",
       "      <td>[Many, Canadians, do, nt, realize, this, Look,...</td>\n",
       "    </tr>\n",
       "    <tr>\n",
       "      <th>3</th>\n",
       "      <td>https://twitter.com/D313131Daniel/status/13335...</td>\n",
       "      <td>2020-12-01 00:08:32+00:00</td>\n",
       "      <td>@nationalpost @TheGrowthOp So that won’t cost ...</td>\n",
       "      <td>@nationalpost @TheGrowthOp So that won’t cost ...</td>\n",
       "      <td>1333563595607699464</td>\n",
       "      <td>{'username': 'D313131Daniel', 'displayname': '...</td>\n",
       "      <td>[]</td>\n",
       "      <td>[]</td>\n",
       "      <td>0</td>\n",
       "      <td>0</td>\n",
       "      <td>...</td>\n",
       "      <td>Kingston, Ontario</td>\n",
       "      <td>So that won’t cost me taxes for cerb payments ...</td>\n",
       "      <td>So that wont cost me taxes for cerb payments f...</td>\n",
       "      <td>[]</td>\n",
       "      <td>[So, that, wont, cost, me, taxes, for, cerb, p...</td>\n",
       "      <td>{'neg': 0.0, 'neu': 1.0, 'pos': 0.0, 'compound...</td>\n",
       "      <td>0.0000</td>\n",
       "      <td>Neutral</td>\n",
       "      <td>(So, that, wo, nt, cost, me, taxes, for, cerb,...</td>\n",
       "      <td>[So, that, wo, nt, cost, me, taxes, for, cerb,...</td>\n",
       "    </tr>\n",
       "    <tr>\n",
       "      <th>4</th>\n",
       "      <td>https://twitter.com/Paulbyjove1/status/1333563...</td>\n",
       "      <td>2020-12-01 00:07:28+00:00</td>\n",
       "      <td>@exposforever @MJosling53 @erinotoole @PierreP...</td>\n",
       "      <td>@exposforever @MJosling53 @erinotoole @PierreP...</td>\n",
       "      <td>1333563328040464385</td>\n",
       "      <td>{'username': 'Paulbyjove1', 'displayname': 'Pa...</td>\n",
       "      <td>[]</td>\n",
       "      <td>[]</td>\n",
       "      <td>0</td>\n",
       "      <td>0</td>\n",
       "      <td>...</td>\n",
       "      <td></td>\n",
       "      <td>False. The NUMBER 1 ROLE OF GOVT is to PROTECT...</td>\n",
       "      <td>False The NUMBER ROLE OF GOVT is to PROTECT TH...</td>\n",
       "      <td>[]</td>\n",
       "      <td>[False, The, NUMBER, ROLE, OF, GOVT, is, to, P...</td>\n",
       "      <td>{'neg': 0.102, 'neu': 0.689, 'pos': 0.209, 'co...</td>\n",
       "      <td>0.6774</td>\n",
       "      <td>Positive</td>\n",
       "      <td>(False, The, NUMBER, ROLE, OF, GOVT, is, to, P...</td>\n",
       "      <td>[False, The, NUMBER, ROLE, OF, GOVT, is, to, P...</td>\n",
       "    </tr>\n",
       "    <tr>\n",
       "      <th>5</th>\n",
       "      <td>https://twitter.com/GavinBamber/status/1333563...</td>\n",
       "      <td>2020-12-01 00:07:00+00:00</td>\n",
       "      <td>@journo_dale Something like over $400 million ...</td>\n",
       "      <td>@journo_dale Something like over $400 million ...</td>\n",
       "      <td>1333563211216424961</td>\n",
       "      <td>{'username': 'GavinBamber', 'displayname': 'Ga...</td>\n",
       "      <td>[]</td>\n",
       "      <td>[]</td>\n",
       "      <td>0</td>\n",
       "      <td>0</td>\n",
       "      <td>...</td>\n",
       "      <td>North Vancouver</td>\n",
       "      <td>Something like over $400 million was mistakenl...</td>\n",
       "      <td>Something like over million was mistakenly sen...</td>\n",
       "      <td>[]</td>\n",
       "      <td>[Something, like, over, million, was, mistaken...</td>\n",
       "      <td>{'neg': 0.068, 'neu': 0.763, 'pos': 0.169, 'co...</td>\n",
       "      <td>0.3390</td>\n",
       "      <td>Positive</td>\n",
       "      <td>(Something, like, over, million, was, mistaken...</td>\n",
       "      <td>[Something, like, over, million, was, mistaken...</td>\n",
       "    </tr>\n",
       "  </tbody>\n",
       "</table>\n",
       "<p>5 rows × 33 columns</p>\n",
       "</div>"
      ],
      "text/plain": [
       "                                                 url  \\\n",
       "0  https://twitter.com/SandraLynnColl3/status/133...   \n",
       "2  https://twitter.com/bunmzi/status/133356432966...   \n",
       "3  https://twitter.com/D313131Daniel/status/13335...   \n",
       "4  https://twitter.com/Paulbyjove1/status/1333563...   \n",
       "5  https://twitter.com/GavinBamber/status/1333563...   \n",
       "\n",
       "                       date  \\\n",
       "0 2020-12-01 00:12:39+00:00   \n",
       "2 2020-12-01 00:11:27+00:00   \n",
       "3 2020-12-01 00:08:32+00:00   \n",
       "4 2020-12-01 00:07:28+00:00   \n",
       "5 2020-12-01 00:07:00+00:00   \n",
       "\n",
       "                                             content  \\\n",
       "0  @mini_bubbly In our Entire extended family, on...   \n",
       "2  @MrStache9 Many Canadians dont realize this. L...   \n",
       "3  @nationalpost @TheGrowthOp So that won’t cost ...   \n",
       "4  @exposforever @MJosling53 @erinotoole @PierreP...   \n",
       "5  @journo_dale Something like over $400 million ...   \n",
       "\n",
       "                                     renderedContent                   id  \\\n",
       "0  @mini_bubbly In our Entire extended family, on...  1333564633320480769   \n",
       "2  @MrStache9 Many Canadians dont realize this. L...  1333564329665441793   \n",
       "3  @nationalpost @TheGrowthOp So that won’t cost ...  1333563595607699464   \n",
       "4  @exposforever @MJosling53 @erinotoole @PierreP...  1333563328040464385   \n",
       "5  @journo_dale Something like over $400 million ...  1333563211216424961   \n",
       "\n",
       "                                                user outlinks tcooutlinks  \\\n",
       "0  {'username': 'SandraLynnColl3', 'displayname':...       []          []   \n",
       "2  {'username': 'bunmzi', 'displayname': 'Mikel A...       []          []   \n",
       "3  {'username': 'D313131Daniel', 'displayname': '...       []          []   \n",
       "4  {'username': 'Paulbyjove1', 'displayname': 'Pa...       []          []   \n",
       "5  {'username': 'GavinBamber', 'displayname': 'Ga...       []          []   \n",
       "\n",
       "   replyCount  retweetCount  ...           location  \\\n",
       "0           0             0  ...             Canada   \n",
       "2           0             1  ...                      \n",
       "3           0             0  ...  Kingston, Ontario   \n",
       "4           0             0  ...                      \n",
       "5           0             0  ...    North Vancouver   \n",
       "\n",
       "                                             no_user  \\\n",
       "0  In our Entire extended family, only one Niece ...   \n",
       "2  Many Canadians dont realize this. Look at the ...   \n",
       "3  So that won’t cost me taxes for cerb payments ...   \n",
       "4  False. The NUMBER 1 ROLE OF GOVT is to PROTECT...   \n",
       "5  Something like over $400 million was mistakenl...   \n",
       "\n",
       "                                               clean hashtags  \\\n",
       "0  In our Entire extended family only one Niece l...       []   \n",
       "2  Many Canadians dont realize this Look at the s...       []   \n",
       "3  So that wont cost me taxes for cerb payments f...       []   \n",
       "4  False The NUMBER ROLE OF GOVT is to PROTECT TH...       []   \n",
       "5  Something like over million was mistakenly sen...       []   \n",
       "\n",
       "                                         clean_split  \\\n",
       "0  [In, our, Entire, extended, family, only, one,...   \n",
       "2  [Many, Canadians, dont, realize, this, Look, a...   \n",
       "3  [So, that, wont, cost, me, taxes, for, cerb, p...   \n",
       "4  [False, The, NUMBER, ROLE, OF, GOVT, is, to, P...   \n",
       "5  [Something, like, over, million, was, mistaken...   \n",
       "\n",
       "                                   list_vader_scores compound vader_score  \\\n",
       "0  {'neg': 0.073, 'neu': 0.927, 'pos': 0.0, 'comp...  -0.3182    Negative   \n",
       "2  {'neg': 0.065, 'neu': 0.935, 'pos': 0.0, 'comp...  -0.1027    Negative   \n",
       "3  {'neg': 0.0, 'neu': 1.0, 'pos': 0.0, 'compound...   0.0000     Neutral   \n",
       "4  {'neg': 0.102, 'neu': 0.689, 'pos': 0.209, 'co...   0.6774    Positive   \n",
       "5  {'neg': 0.068, 'neu': 0.763, 'pos': 0.169, 'co...   0.3390    Positive   \n",
       "\n",
       "                                           spacy_doc  \\\n",
       "0  (In, our, Entire, extended, family, only, one,...   \n",
       "2  (Many, Canadians, do, nt, realize, this, Look,...   \n",
       "3  (So, that, wo, nt, cost, me, taxes, for, cerb,...   \n",
       "4  (False, The, NUMBER, ROLE, OF, GOVT, is, to, P...   \n",
       "5  (Something, like, over, million, was, mistaken...   \n",
       "\n",
       "                                            for_vecs  \n",
       "0  [In, our, Entire, extended, family, only, one,...  \n",
       "2  [Many, Canadians, do, nt, realize, this, Look,...  \n",
       "3  [So, that, wo, nt, cost, me, taxes, for, cerb,...  \n",
       "4  [False, The, NUMBER, ROLE, OF, GOVT, is, to, P...  \n",
       "5  [Something, like, over, million, was, mistaken...  \n",
       "\n",
       "[5 rows x 33 columns]"
      ]
     },
     "execution_count": 264,
     "metadata": {},
     "output_type": "execute_result"
    }
   ],
   "source": [
    "df1.head()"
   ]
  },
  {
   "cell_type": "code",
   "execution_count": 265,
   "metadata": {},
   "outputs": [],
   "source": [
    "with open('df1_w_vecs.pkl', 'wb') as write_file:\n",
    "    pickle.dump(df1, write_file)"
   ]
  },
  {
   "cell_type": "markdown",
   "metadata": {},
   "source": [
    "-----"
   ]
  },
  {
   "cell_type": "markdown",
   "metadata": {},
   "source": [
    "## Transfer learning to generate embeddings"
   ]
  },
  {
   "cell_type": "markdown",
   "metadata": {},
   "source": [
    "To generate word embeddings which I then transformed into document embeddings, I used transfer learning from [Fredric Godin's Twitter Embeddings library](https://github.com/FredericGodin/TwitterEmbeddings). Godin offers two sets of embeddings, one deploying Word2Vec and the other FastText. I chose the FastText option because over 25,000 of my tokens are missing from the embeddings library. This  number is far too large to make replacements by hand or simply drop. Therefore, FastText, which can handle vocabulary that is not in the library or that it hasn't seen before was a much better option. "
   ]
  },
  {
   "cell_type": "markdown",
   "metadata": {},
   "source": [
    "------"
   ]
  },
  {
   "cell_type": "code",
   "execution_count": 2,
   "metadata": {},
   "outputs": [],
   "source": [
    "with open('df1_w_vecs.pkl', 'rb') as read_file:\n",
    "    df1 = pickle.load(read_file)"
   ]
  },
  {
   "cell_type": "code",
   "execution_count": 3,
   "metadata": {},
   "outputs": [
    {
     "data": {
      "text/plain": [
       "(240808, 33)"
      ]
     },
     "execution_count": 3,
     "metadata": {},
     "output_type": "execute_result"
    }
   ],
   "source": [
    "df1.shape"
   ]
  },
  {
   "cell_type": "code",
   "execution_count": 5,
   "metadata": {},
   "outputs": [],
   "source": [
    "# df1.head()"
   ]
  },
  {
   "cell_type": "markdown",
   "metadata": {},
   "source": [
    "-------"
   ]
  },
  {
   "cell_type": "markdown",
   "metadata": {},
   "source": [
    "FastText"
   ]
  },
  {
   "cell_type": "code",
   "execution_count": 4,
   "metadata": {},
   "outputs": [],
   "source": [
    "model_path = '/Users/AmandaCheney/Downloads/fasttext_twitter_raw.bin'"
   ]
  },
  {
   "cell_type": "code",
   "execution_count": 5,
   "metadata": {},
   "outputs": [
    {
     "name": "stdout",
     "output_type": "stream",
     "text": [
      "CPU times: user 26.6 s, sys: 38.3 s, total: 1min 4s\n",
      "Wall time: 2min 38s\n"
     ]
    },
    {
     "name": "stderr",
     "output_type": "stream",
     "text": [
      "Warning : `load_model` does not return WordVectorModel or SupervisedModel any more, but a `FastText` object which is very similar.\n"
     ]
    }
   ],
   "source": [
    "%%time\n",
    "ft_model = ft.load_model(model_path)"
   ]
  },
  {
   "cell_type": "code",
   "execution_count": 8,
   "metadata": {},
   "outputs": [
    {
     "data": {
      "text/plain": [
       "3818774"
      ]
     },
     "execution_count": 8,
     "metadata": {},
     "output_type": "execute_result"
    }
   ],
   "source": [
    "len(ft_model.words)"
   ]
  },
  {
   "cell_type": "markdown",
   "metadata": {},
   "source": [
    "Taking a look at random slice of the words in the model reveals the robustness of FastText. It contains terms with hashtags and at signs as well as words with apostrophes and punctuation.  "
   ]
  },
  {
   "cell_type": "code",
   "execution_count": 9,
   "metadata": {},
   "outputs": [
    {
     "data": {
      "text/plain": [
       "['gentleman',\n",
       " 'granny',\n",
       " 'Steam',\n",
       " \"everybody's\",\n",
       " 'Goodnight!',\n",
       " 'rank',\n",
       " '@AP:',\n",
       " 'Olive',\n",
       " 'MAY',\n",
       " '#design']"
      ]
     },
     "execution_count": 9,
     "metadata": {},
     "output_type": "execute_result"
    }
   ],
   "source": [
    "ft_model.words[1110:1120]"
   ]
  },
  {
   "cell_type": "markdown",
   "metadata": {},
   "source": [
    "Here's what the model has for Canada's nearest neighbors."
   ]
  },
  {
   "cell_type": "code",
   "execution_count": 10,
   "metadata": {
    "scrolled": true
   },
   "outputs": [
    {
     "data": {
      "text/plain": [
       "[(0.8826490640640259, 'Canada}'),\n",
       " (0.8428902626037598, 'Canada;'),\n",
       " (0.8328725099563599, 'Canada.)'),\n",
       " (0.818520188331604, 'Canada/US'),\n",
       " (0.815723717212677, 'Canada~'),\n",
       " (0.8113458752632141, 'Canada-3'),\n",
       " (0.810616672039032, 'Canada/USA'),\n",
       " (0.8073190450668335, 'Canada-'),\n",
       " (0.8052198886871338, 'Canadaland'),\n",
       " (0.7982547879219055, 'Canada--')]"
      ]
     },
     "execution_count": 10,
     "metadata": {},
     "output_type": "execute_result"
    }
   ],
   "source": [
    "ft_model.get_nearest_neighbors('Canada')"
   ]
  },
  {
   "cell_type": "markdown",
   "metadata": {},
   "source": [
    "Let's see how to model handles a random hashtag I observed in the data."
   ]
  },
  {
   "cell_type": "code",
   "execution_count": 394,
   "metadata": {},
   "outputs": [
    {
     "data": {
      "text/plain": [
       "[(0.886472225189209, '#unemployment'),\n",
       " (0.8833913207054138, '#funemployment'),\n",
       " (0.8503758907318115, '#youthunemployment'),\n",
       " (0.7962139248847961, '#Unemployment'),\n",
       " (0.7865886688232422, '#selfemployment'),\n",
       " (0.7707514762878418, 'unemployment'),\n",
       " (0.7688292860984802, '#employment'),\n",
       " (0.768085777759552, 'ESLemployment'),\n",
       " (0.7653712034225464, '#ExtendUnemployment'),\n",
       " (0.7538452744483948, '#employmentlaw')]"
      ]
     },
     "execution_count": 394,
     "metadata": {},
     "output_type": "execute_result"
    }
   ],
   "source": [
    "ft_model.get_nearest_neighbors(\"#forgetunemployment\")"
   ]
  },
  {
   "cell_type": "markdown",
   "metadata": {},
   "source": [
    "We get comporable results with and without the hashtag."
   ]
  },
  {
   "cell_type": "code",
   "execution_count": 393,
   "metadata": {},
   "outputs": [
    {
     "data": {
      "text/plain": [
       "[(0.8567148447036743, 'unemployment'),\n",
       " (0.8388547301292419, '#unemployment'),\n",
       " (0.8345044851303101, '#funemployment'),\n",
       " (0.8146728873252869, 'ESLemployment'),\n",
       " (0.8087956309318542, 'unemployment?'),\n",
       " (0.8072128891944885, '#youthunemployment'),\n",
       " (0.8067687749862671, 'unemployment,'),\n",
       " (0.8031488656997681, 'unemployment.'),\n",
       " (0.8021907210350037, 'unemployment\"'),\n",
       " (0.7957878708839417, 'unemployment!')]"
      ]
     },
     "execution_count": 393,
     "metadata": {},
     "output_type": "execute_result"
    }
   ],
   "source": [
    "ft_model.get_nearest_neighbors('forgetunemployment')"
   ]
  },
  {
   "cell_type": "markdown",
   "metadata": {},
   "source": [
    "## Generate embeddings"
   ]
  },
  {
   "cell_type": "markdown",
   "metadata": {},
   "source": [
    "For each tweet document, I start by creating an empty vector of length 400, as this is the size of the pre-trained model. Then for each word/token in the tweet, I use the FastText model to create an embedding, which is then added to the document vector. After creating embeddings for every word in the tweet, I create a document embedding but diving the vector by its norm."
   ]
  },
  {
   "cell_type": "code",
   "execution_count": 11,
   "metadata": {},
   "outputs": [
    {
     "name": "stdout",
     "output_type": "stream",
     "text": [
      "CPU times: user 2min 16s, sys: 32.2 s, total: 2min 48s\n",
      "Wall time: 4min 30s\n"
     ]
    }
   ],
   "source": [
    "%%time\n",
    "ft_doc_vectors = []\n",
    "for doc in df1['for_vecs']:\n",
    "    vector = np.zeros(400)\n",
    "    for word in doc:\n",
    "        try:\n",
    "            vector = np.add(ft_model[word], vector)\n",
    "        except KeyError:\n",
    "            vector = np.add(vector, np.zeros(400))\n",
    "    vector = vector / np.linalg.norm(vector)\n",
    "    ft_doc_vectors.append(vector)"
   ]
  },
  {
   "cell_type": "markdown",
   "metadata": {},
   "source": [
    "Making sure that there are not empty document vectors."
   ]
  },
  {
   "cell_type": "code",
   "execution_count": 12,
   "metadata": {},
   "outputs": [],
   "source": [
    "filtered_docs = [str(doc.sum()) != 'nan' for doc in ft_doc_vectors]"
   ]
  },
  {
   "cell_type": "code",
   "execution_count": 13,
   "metadata": {},
   "outputs": [
    {
     "data": {
      "text/plain": [
       "240808"
      ]
     },
     "execution_count": 13,
     "metadata": {},
     "output_type": "execute_result"
    }
   ],
   "source": [
    "len(filtered_docs)"
   ]
  },
  {
   "cell_type": "code",
   "execution_count": 16,
   "metadata": {},
   "outputs": [],
   "source": [
    "doc_vectors = np.array(ft_doc_vectors)[filtered_docs]"
   ]
  },
  {
   "cell_type": "code",
   "execution_count": 17,
   "metadata": {},
   "outputs": [
    {
     "data": {
      "text/plain": [
       "240808"
      ]
     },
     "execution_count": 17,
     "metadata": {},
     "output_type": "execute_result"
    }
   ],
   "source": [
    "len(doc_vectors)"
   ]
  },
  {
   "cell_type": "markdown",
   "metadata": {},
   "source": [
    "Having a look at what the document vectors look like, I limit to a length of 100, as the total vector length is 400."
   ]
  },
  {
   "cell_type": "code",
   "execution_count": 18,
   "metadata": {},
   "outputs": [
    {
     "data": {
      "text/plain": [
       "array([-0.003058  , -0.10491421,  0.03684855, -0.012267  , -0.00919887,\n",
       "       -0.08231937, -0.0335966 , -0.02481934, -0.02251031,  0.03845023,\n",
       "       -0.0002641 , -0.05904942, -0.08859264,  0.0153966 , -0.00884376,\n",
       "        0.05222693,  0.0093316 , -0.04216076,  0.04405529, -0.03084019,\n",
       "       -0.03554146, -0.01006025,  0.02306784, -0.03808308, -0.05935347,\n",
       "       -0.03907043,  0.02869161,  0.05053029, -0.04654245,  0.03511478,\n",
       "        0.04197958, -0.1183917 , -0.00134065, -0.05671608, -0.17690775,\n",
       "       -0.08795649,  0.07938551,  0.00104496,  0.01450981, -0.05626698,\n",
       "       -0.06712566,  0.1045928 ,  0.01922257,  0.03041594,  0.06595997,\n",
       "       -0.03783401, -0.00904829, -0.03726572,  0.03684051,  0.00326786,\n",
       "       -0.02243839,  0.03751467, -0.05560829,  0.07148362, -0.00089446,\n",
       "        0.00708171, -0.0165192 ,  0.01236192, -0.15906664, -0.03559208,\n",
       "       -0.05971879,  0.00336894,  0.01338454,  0.0325871 , -0.07559386,\n",
       "       -0.05471139,  0.05658214,  0.0127135 ,  0.00343086, -0.03378244,\n",
       "       -0.13932215,  0.01109781, -0.01151733,  0.0101637 , -0.04021866,\n",
       "       -0.05170467,  0.07170844,  0.10731356,  0.06785308,  0.05764518,\n",
       "       -0.03074768,  0.07153717,  0.04560213,  0.04695229,  0.07567035,\n",
       "        0.05718583,  0.00369369, -0.02240993, -0.04970897,  0.05559   ,\n",
       "        0.05133983, -0.0138347 ,  0.00335588, -0.04970948,  0.0330097 ,\n",
       "        0.0057898 , -0.00224806,  0.01065351,  0.00902136,  0.06347385])"
      ]
     },
     "execution_count": 18,
     "metadata": {},
     "output_type": "execute_result"
    }
   ],
   "source": [
    "doc_vectors[0][:100]"
   ]
  },
  {
   "cell_type": "code",
   "execution_count": 19,
   "metadata": {},
   "outputs": [],
   "source": [
    "with open('final_doc_vectors.pickle', 'wb') as to_write:\n",
    "    pickle.dump(doc_vectors, to_write)"
   ]
  }
 ],
 "metadata": {
  "kernelspec": {
   "display_name": "Python [conda env:metis] *",
   "language": "python",
   "name": "conda-env-metis-py"
  },
  "language_info": {
   "codemirror_mode": {
    "name": "ipython",
    "version": 3
   },
   "file_extension": ".py",
   "mimetype": "text/x-python",
   "name": "python",
   "nbconvert_exporter": "python",
   "pygments_lexer": "ipython3",
   "version": "3.8.5"
  }
 },
 "nbformat": 4,
 "nbformat_minor": 4
}
